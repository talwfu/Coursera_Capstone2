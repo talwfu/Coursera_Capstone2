{
 "cells": [
  {
   "cell_type": "markdown",
   "source": [
    "<h4> Background</h4>\n",
    "\n",
    "In this project, I will be analyzing car accident data in order to predict what causes car collisions.\n",
    "The problem of car collisions is a great one -- people are hurt and/or die. Every car accident is a sad occasion.\n",
    "The stakeholders in solving this problem are, in essence, all of society. However, more precisly, this will\n",
    "be targeted at government agents, who can make changes using the data findings that my findings present.\n",
    "Solving this kind of problem is much less for business purposes and more for societal benefit. However, there\n",
    "are clear business benefits--having to pay less for healthcare costs incurred after an accident or even replacing a worker\n",
    "if needed.\n"
   ],
   "metadata": {
    "collapsed": false,
    "pycharm": {
     "name": "#%% md\n"
    }
   }
  }
 ],
 "metadata": {
  "kernelspec": {
   "display_name": "Python 3",
   "language": "python",
   "name": "python3"
  },
  "language_info": {
   "codemirror_mode": {
    "name": "ipython",
    "version": 2
   },
   "file_extension": ".py",
   "mimetype": "text/x-python",
   "name": "python",
   "nbconvert_exporter": "python",
   "pygments_lexer": "ipython2",
   "version": "2.7.6"
  }
 },
 "nbformat": 4,
 "nbformat_minor": 0
}