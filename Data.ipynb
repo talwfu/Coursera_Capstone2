{
 "cells": [
  {
   "cell_type": "markdown",
   "source": [
    "<h4> Data</h4>\n",
    "\n",
    "The dataset I will be using is called \"Collisions--All Year\" and it was provided by the Seattle Police Department\n",
    "and recorded by Traffic Records. It includes all collisions from 2004 to Present. More importantly, it includes\n",
    "very many different types of other data points about these collisions, including its location, what kind of collision it was,\n",
    "its severity, what the weather was like, and more.\n",
    "<p>I will use all of these different columns to try and predict the severity of the car accident. I will\n",
    "use a multitude of different Machine Learning models, such as decision trees, SVMs, and more to try and predict severity\n",
    "by training on this dataset.\n",
    "\n",
    "\n"
   ],
   "metadata": {
    "collapsed": false
   }
  }
 ],
 "metadata": {
  "kernelspec": {
   "display_name": "Python 3",
   "language": "python",
   "name": "python3"
  },
  "language_info": {
   "codemirror_mode": {
    "name": "ipython",
    "version": 2
   },
   "file_extension": ".py",
   "mimetype": "text/x-python",
   "name": "python",
   "nbconvert_exporter": "python",
   "pygments_lexer": "ipython2",
   "version": "2.7.6"
  }
 },
 "nbformat": 4,
 "nbformat_minor": 0
}